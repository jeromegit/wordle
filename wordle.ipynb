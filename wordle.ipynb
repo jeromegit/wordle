{
 "cells": [
  {
   "cell_type": "markdown",
   "id": "544b622d",
   "metadata": {},
   "source": [
    "\n"
   ]
  },
  {
   "cell_type": "code",
   "execution_count": 8,
   "id": "9aa0b096",
   "metadata": {},
   "outputs": [],
   "source": [
    "from collections import defaultdict\n",
    "import matplotlib.pyplot as plt\n",
    "import pandas as pd\n",
    "import seaborn as sns"
   ]
  },
  {
   "cell_type": "code",
   "execution_count": 9,
   "id": "1a1bc5f4",
   "metadata": {},
   "outputs": [],
   "source": [
    "def print_dict_with_rank(title, d, top=20):\n",
    "    print(f\"\\n-------- {title} --------\")\n",
    "    rank = 1\n",
    "    for key, value in sorted(d.items(), key=lambda item: item[1], reverse=True)[:top]:\n",
    "        print(f\"{rank:>2} {key}: {value}\")\n",
    "        rank += 1"
   ]
  },
  {
   "cell_type": "code",
   "execution_count": 10,
   "id": "e96a4cb0",
   "metadata": {},
   "outputs": [
    {
     "name": "stdout",
     "output_type": "stream",
     "text": [
      "-------- Letters sorted in alphabetical order --------\n",
      "A: 2348\n",
      "B: 715\n",
      "C: 964\n",
      "D: 1181\n",
      "E: 3009\n",
      "F: 561\n",
      "G: 679\n",
      "H: 814\n",
      "I: 1592\n",
      "J: 89\n",
      "K: 596\n",
      "L: 1586\n",
      "M: 843\n",
      "N: 1285\n",
      "O: 1915\n",
      "P: 955\n",
      "Q: 53\n",
      "R: 1910\n",
      "S: 3033\n",
      "T: 1585\n",
      "U: 1089\n",
      "V: 318\n",
      "W: 505\n",
      "X: 139\n",
      "Y: 886\n",
      "Z: 135\n"
     ]
    }
   ],
   "source": [
    "letter_freq = defaultdict(int)\n",
    "letter_freq_in_position = defaultdict(lambda: defaultdict(int))\n",
    "with open(\"five_letter_words.txt\") as word_list:\n",
    "    for word in word_list:\n",
    "        word = word.rstrip()\n",
    "        position = 0\n",
    "        for letter in word:\n",
    "            letter = letter.upper()\n",
    "            letter_freq[letter] += 1\n",
    "            letter_freq_in_position[letter][position] += 1\n",
    "            position += 1\n",
    "\n",
    "print(\"-------- Letters sorted in alphabetical order --------\")\n",
    "for letter, freq in sorted(letter_freq.items()):\n",
    "    print(f\"{letter.upper()}: {freq}\")\n"
   ]
  },
  {
   "cell_type": "code",
   "execution_count": 11,
   "id": "4a601354",
   "metadata": {},
   "outputs": [
    {
     "name": "stdout",
     "output_type": "stream",
     "text": [
      "\n",
      "-------- Letters sorted by frequency --------\n",
      " 1 S: 3033\n",
      " 2 E: 3009\n",
      " 3 A: 2348\n",
      " 4 O: 1915\n",
      " 5 R: 1910\n",
      " 6 I: 1592\n",
      " 7 L: 1586\n",
      " 8 T: 1585\n",
      " 9 N: 1285\n",
      "10 D: 1181\n",
      "11 U: 1089\n",
      "12 C: 964\n",
      "13 P: 955\n",
      "14 Y: 886\n",
      "15 M: 843\n",
      "16 H: 814\n",
      "17 B: 715\n",
      "18 G: 679\n",
      "19 K: 596\n",
      "20 F: 561\n",
      "21 W: 505\n",
      "22 V: 318\n",
      "23 X: 139\n",
      "24 Z: 135\n",
      "25 J: 89\n",
      "26 Q: 53\n"
     ]
    }
   ],
   "source": [
    "print_dict_with_rank(\"Letters sorted by frequency\", letter_freq, 26)"
   ]
  },
  {
   "cell_type": "code",
   "execution_count": 12,
   "id": "808fd0a5",
   "metadata": {},
   "outputs": [],
   "source": [
    "words_with_freq_weight = {}\n",
    "words_with_freq_and_position_weight = {}\n",
    "with open(\"five_letter_words.txt\") as word_list:\n",
    "    for word in word_list:\n",
    "        word = word.rstrip()\n",
    "        freq_weight = 0\n",
    "        freq_and_position_weight = 0\n",
    "        letters_in_word = set()\n",
    "        position = 0\n",
    "        for letter in word:\n",
    "            letter = letter.upper()\n",
    "            freq_weight += letter_freq[letter]\n",
    "            freq_and_position_weight += letter_freq[letter] * letter_freq_in_position[letter][position]\n",
    "            letters_in_word.add(letter)\n",
    "            position += 1\n",
    "        if len(letters_in_word) == 5:\n",
    "            words_with_freq_weight[word] = freq_weight\n",
    "            words_with_freq_and_position_weight[word] = freq_and_position_weight\n"
   ]
  },
  {
   "cell_type": "code",
   "execution_count": 13,
   "id": "2d7cd3fc",
   "metadata": {},
   "outputs": [
    {
     "name": "stdout",
     "output_type": "stream",
     "text": [
      "\n",
      "-------- Top words with most frequent unrepeated letters --------\n",
      " 1 arose: 12215\n",
      " 2 raise: 11892\n",
      " 3 arise: 11892\n",
      " 4 aloes: 11891\n",
      " 5 stoae: 11890\n",
      " 6 laser: 11886\n",
      " 7 earls: 11886\n",
      " 8 reals: 11886\n",
      " 9 tears: 11885\n",
      "10 rates: 11885\n",
      "11 stare: 11885\n",
      "12 aster: 11885\n",
      "13 tares: 11885\n",
      "14 snare: 11585\n",
      "15 earns: 11585\n",
      "16 nears: 11585\n",
      "17 saner: 11585\n",
      "18 nares: 11585\n",
      "19 aisle: 11568\n",
      "20 least: 11561\n",
      "\n",
      "-------- Top words with most frequent unrepeated letters weighted by letter position --------\n",
      " 1 tares: 12732114\n",
      " 2 cares: 12560314\n",
      " 3 pares: 12504784\n",
      " 4 dares: 12503445\n",
      " 5 bares: 12445034\n",
      " 6 tales: 12440232\n",
      " 7 mares: 12387368\n",
      " 8 hares: 12330700\n",
      " 9 fares: 12314552\n",
      "10 nares: 12287784\n",
      "11 wares: 12251294\n",
      "12 pales: 12212902\n",
      "13 dales: 12211563\n",
      "14 lanes: 12185560\n",
      "15 rates: 12184584\n",
      "16 canes: 12179914\n",
      "17 bales: 12153152\n",
      "18 lores: 12126885\n",
      "19 panes: 12124384\n",
      "20 cores: 12121239\n"
     ]
    }
   ],
   "source": [
    "print_dict_with_rank(\"Top words with most frequent unrepeated letters\", words_with_freq_weight)\n",
    "print_dict_with_rank(\"Top words with most frequent unrepeated letters weighted by letter position\",\n",
    "                     words_with_freq_and_position_weight)"
   ]
  },
  {
   "cell_type": "code",
   "execution_count": 14,
   "id": "55558428",
   "metadata": {},
   "outputs": [],
   "source": [
    "# --- Chart letter frequencies by position\n",
    "freq_in_position_by_letter_with_letter = {}\n",
    "freq_in_position_by_letter = {}\n",
    "for letter, total_freq in sorted(letter_freq.items(), key=lambda item: item[1], reverse=True):\n",
    "    positions = letter_freq_in_position[letter]\n",
    "    for position in positions:\n",
    "        freq_in_position_by_letter_with_letter[letter] = [letter.upper(),\n",
    "                                                          *[positions.get(position, 0) for position in range(5)]]\n",
    "        freq_in_position_by_letter[letter] = [positions.get(position, 0) for position in range(5)]\n",
    "df = pd.DataFrame(freq_in_position_by_letter_with_letter)\n",
    "df = df.transpose().loc[::-1]  # .loc[::-1] will reverse the order"
   ]
  },
  {
   "cell_type": "code",
   "execution_count": 15,
   "id": "25b5eaef",
   "metadata": {},
   "outputs": [
    {
     "data": {
      "image/png": "[encoded data removed]",
      "text/plain": [
       "<Figure size 432x288 with 1 Axes>"
      ]
     },
     "metadata": {
      "needs_background": "light"
     },
     "output_type": "display_data"
    }
   ],
   "source": [
    "df.set_index(0).plot(kind='barh', stacked=True)\n",
    "plt.legend(title=\"Position\")\n",
    "plt.title(\"Wordle letter frequency: total and broken down by position\")\n",
    "plt.xlabel(\"Frequency\")\n",
    "plt.ylabel(\"Letters\")\n",
    "plt.show()"
   ]
  },
  {
   "cell_type": "code",
   "execution_count": 16,
   "id": "1ff0d418",
   "metadata": {},
   "outputs": [
    {
     "data": {
      "image/png": "[encoded data removed]",
      "text/plain": [
       "<Figure size 720x720 with 28 Axes>"
      ]
     },
     "metadata": {},
     "output_type": "display_data"
    }
   ],
   "source": [
    "sns.set(style=\"darkgrid\", rc={'axes.labelsize': 20})\n",
    "fig, axs = plt.subplots(4, 7, figsize=(10, 10), sharex=True, sharey=True)\n",
    "x_labels = [x + 1 for x in range(5)]\n",
    "for row in range(4):\n",
    "    for col in range(7):\n",
    "        letter = chr(ord('A') + (row * 7) + col)\n",
    "        if letter <= 'Z':\n",
    "            sns.barplot(x=x_labels, y=freq_in_position_by_letter[letter], ax=axs[row, col]) \\\n",
    "                .set_xlabel(letter.upper())\n",
    "plt.suptitle(\"Wordle comparative letter frequency in position\\n(sorted by letter frequency)\")\n",
    "plt.show()"
   ]
  },
  {
   "cell_type": "code",
   "execution_count": null,
   "id": "00479828",
   "metadata": {},
   "outputs": [],
   "source": []
  }
 ],
 "metadata": {
  "kernelspec": {
   "display_name": "Python 3",
   "language": "python",
   "name": "python3"
  },
  "language_info": {
   "codemirror_mode": {
    "name": "ipython",
    "version": 3
   },
   "file_extension": ".py",
   "mimetype": "text/x-python",
   "name": "python",
   "nbconvert_exporter": "python",
   "pygments_lexer": "ipython3",
   "version": "3.9.5"
  }
 },
 "nbformat": 4,
 "nbformat_minor": 5
}
